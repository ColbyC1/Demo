{
 "cells": [
  {
   "cell_type": "markdown",
   "id": "4ebfa75b",
   "metadata": {},
   "source": [
    "def mort_calc():\n",
    "    \n",
    "    mortgage = int(input('How much was your mortgage loan? '))\n",
    "    years = int(input('How many years do you have to pay it off? '))\n",
    "    interest = int(input('How high/low was the interest? '))*.01\n",
    "    \n",
    "    mo_int = interest/12\n",
    "    total_mo = years*12\n",
    "    \n",
    "    top = mo_int*((1+mo_int)**total_mo)\n",
    "    bottom = ((1+mo_int)**total_mo)-1\n",
    "    form = top/bottom\n",
    "    \n",
    "    mo_payments = float(round(mortgage*form))\n",
    "    \n",
    "    return(f'Monthly Payments: ${mo_payments}')"
   ]
  }
 ],
 "metadata": {
  "kernelspec": {
   "display_name": "Python 3 (ipykernel)",
   "language": "python",
   "name": "python3"
  },
  "language_info": {
   "codemirror_mode": {
    "name": "ipython",
    "version": 3
   },
   "file_extension": ".py",
   "mimetype": "text/x-python",
   "name": "python",
   "nbconvert_exporter": "python",
   "pygments_lexer": "ipython3",
   "version": "3.9.7"
  }
 },
 "nbformat": 4,
 "nbformat_minor": 5
}
